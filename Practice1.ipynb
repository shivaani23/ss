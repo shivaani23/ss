{
  "nbformat": 4,
  "nbformat_minor": 0,
  "metadata": {
    "colab": {
      "name": "Practice1.ipynb",
      "version": "0.3.2",
      "provenance": [],
      "collapsed_sections": [],
      "include_colab_link": true
    },
    "kernelspec": {
      "name": "python3",
      "display_name": "Python 3"
    }
  },
  "cells": [
    {
      "cell_type": "markdown",
      "metadata": {
        "id": "view-in-github",
        "colab_type": "text"
      },
      "source": [
        "<a href=\"https://colab.research.google.com/github/shivaani23/ss/blob/master/Practice1.ipynb\" target=\"_parent\"><img src=\"https://colab.research.google.com/assets/colab-badge.svg\" alt=\"Open In Colab\"/></a>"
      ]
    },
    {
      "cell_type": "code",
      "metadata": {
        "id": "Y_vJTNheWSq6",
        "colab_type": "code",
        "outputId": "2dac85e4-bad0-450b-b5ab-7752dc1f3c5b",
        "colab": {
          "base_uri": "https://localhost:8080/",
          "height": 51
        }
      },
      "source": [
        "name=input()\n",
        "print(\"Hello\"+name)"
      ],
      "execution_count": 0,
      "outputs": [
        {
          "output_type": "stream",
          "text": [
            "45\n",
            "Hello45\n"
          ],
          "name": "stdout"
        }
      ]
    },
    {
      "cell_type": "code",
      "metadata": {
        "id": "_Dntt_dmXABL",
        "colab_type": "code",
        "outputId": "a7d24daa-fadd-4327-ad70-880f7de6dc55",
        "colab": {
          "base_uri": "https://localhost:8080/",
          "height": 51
        }
      },
      "source": [
        "n=input()\n",
        "print(type(n))\n"
      ],
      "execution_count": 0,
      "outputs": [
        {
          "output_type": "stream",
          "text": [
            "45\n",
            "<class 'str'>\n"
          ],
          "name": "stdout"
        }
      ]
    },
    {
      "cell_type": "code",
      "metadata": {
        "id": "i1fA5LbJYIOr",
        "colab_type": "code",
        "outputId": "97e1392a-1747-4dea-ecca-8c3946002247",
        "colab": {
          "base_uri": "https://localhost:8080/",
          "height": 51
        }
      },
      "source": [
        "x=int(input())\n",
        "print(type(x))"
      ],
      "execution_count": 0,
      "outputs": [
        {
          "output_type": "stream",
          "text": [
            "78\n",
            "<class 'int'>\n"
          ],
          "name": "stdout"
        }
      ]
    },
    {
      "cell_type": "code",
      "metadata": {
        "id": "DndEjmIaZ9RV",
        "colab_type": "code",
        "outputId": "dadaf1be-db83-4279-8586-0302394d0583",
        "colab": {
          "base_uri": "https://localhost:8080/",
          "height": 119
        }
      },
      "source": [
        "s1=\"My name is shivani\"\n",
        "s2=s1.split()\n",
        "print(s1)\n",
        "print(s2)\n",
        "print(type(s1))\n",
        "print(type(s2))\n",
        "print(s2[0])\n",
        "print(s2[-4])"
      ],
      "execution_count": 7,
      "outputs": [
        {
          "output_type": "stream",
          "text": [
            "My name is shivani\n",
            "['My', 'name', 'is', 'shivani']\n",
            "<class 'str'>\n",
            "<class 'list'>\n",
            "My\n",
            "My\n"
          ],
          "name": "stdout"
        }
      ]
    },
    {
      "cell_type": "code",
      "metadata": {
        "id": "5wY8nvyqnTUI",
        "colab_type": "code",
        "colab": {
          "base_uri": "https://localhost:8080/",
          "height": 68
        },
        "outputId": "b6046eb9-f4cb-4058-f926-b32ff90351d4"
      },
      "source": [
        "s3=\"!!@#$%!!\".join(s2)\n",
        "print(s3)\n",
        "name=\"Shivani\"\n",
        "s4=\"Hello \"+str(name)\n",
        "print(s4)\n",
        "s5=\"Hello \"+str(\"Shivani\")\n",
        "print(s5)"
      ],
      "execution_count": 14,
      "outputs": [
        {
          "output_type": "stream",
          "text": [
            "My!!@#$%!!name!!@#$%!!is!!@#$%!!shivani\n",
            "Hello Shivani\n",
            "Hello Shivani\n"
          ],
          "name": "stdout"
        }
      ]
    },
    {
      "cell_type": "code",
      "metadata": {
        "id": "55qW26xEW_-U",
        "colab_type": "code",
        "colab": {
          "base_uri": "https://localhost:8080/",
          "height": 295
        },
        "outputId": "2a1fc036-c3d7-45c3-c159-873050380b75"
      },
      "source": [
        "import matplotlib.pyplot as plt\n",
        "plt.bar([1,2,3,4,5],[10,50,58,39,40],width=0.2,color='orange',label=\"abcd\")\n",
        "plt.bar([1.5,2.5,3.5,4.5,5.5],[80,70,90,60,10],width=0.2,label=\"efgh\")\n",
        "plt.xlabel(\"x-axis\")\n",
        "plt.ylabel(\"y-axis\")\n",
        "plt.title(\"Analysis\")\n",
        "plt.legend()\n",
        "plt.show()"
      ],
      "execution_count": 4,
      "outputs": [
        {
          "output_type": "display_data",
          "data": {
            "image/png": "[encoded data removed]",
            "text/plain": [
              "<Figure size 432x288 with 1 Axes>"
            ]
          },
          "metadata": {
            "tags": []
          }
        }
      ]
    },
    {
      "cell_type": "code",
      "metadata": {
        "id": "H0YIWe3N3GsD",
        "colab_type": "code",
        "colab": {}
      },
      "source": [
        ""
      ],
      "execution_count": 0,
      "outputs": []
    }
  ]
}